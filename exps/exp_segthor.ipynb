{
 "cells": [
  {
   "cell_type": "code",
   "execution_count": null,
   "metadata": {
    "id": "nmnP0OoaJ4pP"
   },
   "outputs": [],
   "source": [
    "!nvidia-smi"
   ]
  },
  {
   "cell_type": "markdown",
   "metadata": {
    "id": "EaIVNeQDIdaB"
   },
   "source": [
    "## Setup environment"
   ]
  },
  {
   "cell_type": "code",
   "execution_count": null,
   "metadata": {
    "colab": {
     "base_uri": "https://localhost:8080/"
    },
    "executionInfo": {
     "elapsed": 58587,
     "status": "ok",
     "timestamp": 1667727198633,
     "user": {
      "displayName": "22",
      "userId": "12730652554089239437"
     },
     "user_tz": -480
    },
    "id": "Oj2GFXrhLdJ9",
    "outputId": "6330e29a-38e7-43a1-d5a2-bddf86d9d07d",
    "tags": []
   },
   "outputs": [],
   "source": [
    "# sync python module\n",
    "%load_ext autoreload\n",
    "%autoreload 2"
   ]
  },
  {
   "cell_type": "markdown",
   "metadata": {
    "id": "wjHHXsxrY_GO",
    "tags": []
   },
   "source": [
    "## Setup config"
   ]
  },
  {
   "cell_type": "code",
   "execution_count": null,
   "metadata": {
    "id": "IWG1M4NMYniV"
   },
   "outputs": [],
   "source": [
    "import os\n",
    "\n",
    "workspace_dir = '/nfs/Workspace/CardiacSegV2'\n",
    "model_name = 'testnet'  #unet3d attention_unet DynUNet cotr unetr swinunetr unetcnx_a1 unest testnet\n",
    "data_name = 'segthor'\n",
    "sub_data_dir_name = 'segTHOR_train'\n",
    "exp_name = 'exp_segthor_3_3_9_2' \n",
    "data_dict_file_name = 'exp_segthor_test.json' #exp_segthor_3_3_9_40_2.json\n",
    "\n",
    "tune_mode = 'train'\n",
    "\n",
    "# set exp dir\n",
    "root_exp_dir = os.path.join(\n",
    "    workspace_dir, \n",
    "    'exps',\n",
    "    'exps',\n",
    "    model_name,\n",
    "    data_name,\n",
    "    'tune_results'\n",
    ")\n",
    "\n",
    "# set data dir\n",
    "root_data_dir = os.path.join(\n",
    "    workspace_dir, \n",
    "    'dataset',\n",
    "    data_name\n",
    ")\n",
    "data_dir = os.path.join(root_data_dir, sub_data_dir_name)\n",
    "\n",
    "# data dict json path\n",
    "data_dicts_json = os.path.join(workspace_dir, 'exps', 'data_dicts', data_name, data_dict_file_name)\n",
    "\n",
    "# set model, log, eval dir\n",
    "model_dir = os.path.join('./', 'models')\n",
    "log_dir = os.path.join('./', 'logs')\n",
    "eval_dir = os.path.join('./', 'evals')\n",
    "\n",
    "# model path\n",
    "best_checkpoint = os.path.join(model_dir, 'best_model.pth')\n",
    "final_checkpoint = os.path.join(model_dir, 'final_model.pth')\n",
    "\n",
    "# mkdir root exp dir\n",
    "os.makedirs(root_exp_dir, exist_ok=True)\n",
    "\n",
    "# for pretrain\n",
    "pretrain_exp_name = 'exp_50'\n",
    "pretrain_data_name = 'image_cas'\n",
    "pretrain_model_dir = os.path.join(\n",
    "    workspace_dir,\n",
    "    'exps',\n",
    "    'exps',\n",
    "    model_name,\n",
    "    pretrain_data_name,\n",
    "    'pretrain',\n",
    "    pretrain_exp_name,\n",
    "    'models'\n",
    ")\n",
    "pretrain_checkpoint = os.path.join(pretrain_model_dir, 'model_bestValRMSE.pt')\n",
    "\n",
    "%cd {root_exp_dir}/.."
   ]
  },
  {
   "cell_type": "markdown",
   "metadata": {
    "id": "3dfeJTv8ZETs",
    "jp-MarkdownHeadingCollapsed": true,
    "tags": []
   },
   "source": [
    "## Train TestNet"
   ]
  },
  {
   "cell_type": "code",
   "execution_count": null,
   "metadata": {},
   "outputs": [],
   "source": [
    "# training\n",
    "!PYTHONPATH={workspace_dir} /opt/conda/bin/python {workspace_dir}/expers/tune.py \\\n",
    "--tune_mode={tune_mode} \\\n",
    "--exp_name={exp_name} \\\n",
    "--data_name={data_name} \\\n",
    "--data_dir={data_dir} \\\n",
    "--root_exp_dir={root_exp_dir} \\\n",
    "--model_name={model_name}\\\n",
    "--model_dir={model_dir} \\\n",
    "--log_dir={log_dir} \\\n",
    "--eval_dir={eval_dir} \\\n",
    "--start_epoch=0 \\\n",
    "--val_every=20 \\\n",
    "--max_early_stop_count=20 \\\n",
    "--max_epoch=1  \\\n",
    "--data_dicts_json={data_dicts_json} \\\n",
    "--pin_memory \\\n",
    "--out_channels=2 \\\n",
    "--patch_size=2 \\\n",
    "--feature_size=48 \\\n",
    "--drop_rate=0.1 \\\n",
    "--depths 3 3 9 3 \\\n",
    "--kernel_size 7 \\\n",
    "--exp_rate 4 \\\n",
    "--norm_name='layer' \\\n",
    "--a_min=-80 \\\n",
    "--a_max=450 \\\n",
    "--space_x=1.0 \\\n",
    "--space_y=1.0 \\\n",
    "--space_z=1.0 \\\n",
    "--roi_x=128 \\\n",
    "--roi_y=128 \\\n",
    "--roi_z=128 \\\n",
    "--optim='AdamW' \\\n",
    "--lr=8e-4 \\\n",
    "--weight_decay=5e-4 \\\n",
    "--checkpoint={final_checkpoint} \\\n",
    "--use_init_weights \\\n",
    "--infer_post_process \\\n",
    "--deep_sup \\\n",
    "# --resume_tuner \\\n",
    "# --test_mode \\\n",
    "# --save_eval_csv"
   ]
  },
  {
   "cell_type": "markdown",
   "metadata": {
    "id": "3dfeJTv8ZETs",
    "tags": []
   },
   "source": [
    "## Train UNETCNX"
   ]
  },
  {
   "cell_type": "code",
   "execution_count": null,
   "metadata": {
    "colab": {
     "base_uri": "https://localhost:8080/"
    },
    "executionInfo": {
     "elapsed": 5212593,
     "status": "ok",
     "timestamp": 1667732466402,
     "user": {
      "displayName": "22",
      "userId": "12730652554089239437"
     },
     "user_tz": -480
    },
    "id": "Pc5UecWCYizV",
    "outputId": "92365bec-cd7e-4561-b607-43d9f3520dd9",
    "tags": []
   },
   "outputs": [],
   "source": [
    "# training\n",
    "!PYTHONPATH={workspace_dir} /opt/conda/bin/python {workspace_dir}/expers/tune.py \\\n",
    "--tune_mode={tune_mode} \\\n",
    "--exp_name={exp_name} \\\n",
    "--data_name={data_name} \\\n",
    "--data_dir={data_dir} \\\n",
    "--root_exp_dir={root_exp_dir} \\\n",
    "--model_name={model_name}\\\n",
    "--model_dir={model_dir} \\\n",
    "--log_dir={log_dir} \\\n",
    "--eval_dir={eval_dir} \\\n",
    "--start_epoch=0 \\\n",
    "--val_every=20 \\\n",
    "--max_early_stop_count=20 \\\n",
    "--max_epoch=1  \\\n",
    "--data_dicts_json={data_dicts_json} \\\n",
    "--pin_memory \\\n",
    "--out_channels=2 \\\n",
    "--patch_size=4 \\\n",
    "--feature_size=48 \\\n",
    "--drop_rate=0.1 \\\n",
    "--depths 3 3 9 3 \\\n",
    "--kernel_size 7 \\\n",
    "--exp_rate 4 \\\n",
    "--norm_name='layer' \\\n",
    "--a_min=-80 \\\n",
    "--a_max=450 \\\n",
    "--space_x=1.0 \\\n",
    "--space_y=1.0 \\\n",
    "--space_z=1.0 \\\n",
    "--roi_x=128 \\\n",
    "--roi_y=128 \\\n",
    "--roi_z=128 \\\n",
    "--optim='AdamW' \\\n",
    "--lr=7e-4 \\\n",
    "--weight_decay=5e-4 \\\n",
    "--checkpoint={final_checkpoint} \\\n",
    "--use_init_weights \\\n",
    "--infer_post_process \\\n",
    "--deep_sup \\\n",
    "#--resume_tuner \\\n",
    "#--test_mode \\\n",
    "#--save_eval_csv"
   ]
  },
  {
   "cell_type": "markdown",
   "metadata": {},
   "source": [
    "## Train other models"
   ]
  },
  {
   "cell_type": "code",
   "execution_count": null,
   "metadata": {},
   "outputs": [],
   "source": [
    "# training\n",
    "!PYTHONPATH={workspace_dir} /opt/conda/bin/python {workspace_dir}/expers/tune.py \\\n",
    "--tune_mode={tune_mode} \\\n",
    "--exp_name={exp_name} \\\n",
    "--data_name={data_name} \\\n",
    "--data_dir={data_dir} \\\n",
    "--root_exp_dir={root_exp_dir} \\\n",
    "--model_name={model_name}\\\n",
    "--model_dir={model_dir} \\\n",
    "--log_dir={log_dir} \\\n",
    "--eval_dir={eval_dir} \\\n",
    "--start_epoch=0 \\\n",
    "--val_every=20 \\\n",
    "--max_early_stop_count=20 \\\n",
    "--max_epoch=2  \\\n",
    "--data_dicts_json={data_dicts_json} \\\n",
    "--pin_memory \\\n",
    "--out_channels=2 \\\n",
    "--patch_size=4 \\\n",
    "--feature_size=48 \\\n",
    "--drop_rate=0.1 \\\n",
    "--depths 3 3 9 3 \\\n",
    "--kernel_size 7 \\\n",
    "--exp_rate 4 \\\n",
    "--norm_name='layer' \\\n",
    "--a_min=-80 \\\n",
    "--a_max=450 \\\n",
    "--space_x=1.0 \\\n",
    "--space_y=1.0 \\\n",
    "--space_z=1.0 \\\n",
    "--roi_x=128 \\\n",
    "--roi_y=128 \\\n",
    "--roi_z=128 \\\n",
    "--optim='AdamW' \\\n",
    "--lr=5e-4 \\\n",
    "--weight_decay=5e-4 \\\n",
    "--checkpoint={final_checkpoint} \\\n",
    "--use_init_weights \\\n",
    "--infer_post_process \\\n",
    "#--resume_tuner \\\n",
    "#--save_eval_csv \\\n",
    "#--test_mode"
   ]
  },
  {
   "cell_type": "markdown",
   "metadata": {
    "id": "UmzrquOuZKk7"
   },
   "source": [
    "## Analysis"
   ]
  },
  {
   "cell_type": "code",
   "execution_count": null,
   "metadata": {},
   "outputs": [],
   "source": [
    "!PYTHONPATH=/nfs/Workspace/CardiacSeg /opt/conda/bin/python /nfs/Workspace/CardiacSeg/expers/tune_anal.py \\\n",
    "--exp_name={exp_name} \\\n",
    "--local_dir={root_exp_dir}"
   ]
  }
 ],
 "metadata": {
  "colab": {
   "collapsed_sections": [],
   "provenance": []
  },
  "gpuClass": "standard",
  "kernelspec": {
   "display_name": "Python 3 (ipykernel)",
   "language": "python",
   "name": "python3"
  },
  "language_info": {
   "codemirror_mode": {
    "name": "ipython",
    "version": 3
   },
   "file_extension": ".py",
   "mimetype": "text/x-python",
   "name": "python",
   "nbconvert_exporter": "python",
   "pygments_lexer": "ipython3",
   "version": "3.8.10"
  }
 },
 "nbformat": 4,
 "nbformat_minor": 4
}
